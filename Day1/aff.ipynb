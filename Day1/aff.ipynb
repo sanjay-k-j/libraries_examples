{
 "cells": [
  {
   "cell_type": "code",
   "execution_count": null,
   "metadata": {},
   "outputs": [],
   "source": [
    "import pandas as pd\n",
    "import numpy as np"
   ]
  },
  {
   "cell_type": "code",
   "execution_count": null,
   "metadata": {},
   "outputs": [],
   "source": [
    "\n",
    "data = {\n",
    "    \"Player\" : [\"Kohli\",\"Rohit\",\"ABD\",\"Pat Cummins\",\"Rajat\",\"Yuvi\",\"Rajat\"],\n",
    "    \"Rank\" : [1,2,4,5,6,3,7],\n",
    "    \"Score\" : [87,75,54,32,23,65,54],\n",
    "    \"Year\" : [2020,2022,2024,2022,2021,2020,2025]\n",
    "}\n",
    "\n",
    "df = pd.DataFrame(data)"
   ]
  },
  {
   "cell_type": "code",
   "execution_count": null,
   "metadata": {},
   "outputs": [
    {
     "data": {
      "text/plain": [
       "        Player  Rank  Score  Year\n",
       "0        Kohli     1     87  2020\n",
       "1        Rohit     2     75  2022\n",
       "2          ABD     4     54  2024\n",
       "3  Pat Cummins     5     32  2022\n",
       "4        Rajat     6     23  2021\n",
       "5         Yuvi     3     65  2020\n",
       "6        Rajat     7     54  2025\n"
      ]
     },
     "metadata": {},
     "output_type": "display_data"
    }
   ],
   "source": [
    "df.head(10)"
   ]
  },
  {
   "cell_type": "code",
   "execution_count": null,
   "metadata": {},
   "outputs": [],
   "source": [
    "groupRes = df.groupby(\"Year\")"
   ]
  },
  {
   "cell_type": "code",
   "execution_count": null,
   "metadata": {},
   "outputs": [
    {
     "data": {
      "text/plain": [
       "Year\n",
       "2020    152\n",
       "2021     23\n",
       "2022    107\n",
       "2024     54\n",
       "2025     54\n",
       "Name: Score, dtype: int64\n"
      ]
     },
     "metadata": {},
     "output_type": "display_data"
    }
   ],
   "source": [
    "print(groupRes[\"Score\"].agg(np.sum))\n"
   ]
  },
  {
   "cell_type": "code",
   "execution_count": null,
   "metadata": {},
   "outputs": [
    {
     "data": {
      "text/plain": [
       "  Category  Values\n",
       "0        A      10\n",
       "1        B      20\n",
       "2        A      15\n",
       "3        B      25\n",
       "4        C      10\n"
      ]
     },
     "metadata": {},
     "output_type": "display_data"
    }
   ],
   "source": [
    "# import pandas as pd\n",
    "\n",
    "# Example DataFrame\n",
    "data1 = {'Category': ['A', 'B', 'A', 'B', 'C'],\n",
    "        'Values': [10, 20, 15, 25, 10]}\n",
    "df1 = pd.DataFrame(data1)\n",
    "print(df1)"
   ]
  },
  {
   "cell_type": "code",
   "execution_count": null,
   "metadata": {},
   "outputs": [
    {
     "data": {
      "text/plain": [
       "          sum  mean  count\n",
       "Category                  \n",
       "A          25  12.5      2\n",
       "B          45  22.5      2\n",
       "C          10  10.0      1\n"
      ]
     },
     "metadata": {},
     "output_type": "display_data"
    }
   ],
   "source": [
    "df2 = df1.groupby(\"Category\")[\"Values\"].agg([\"sum\",\"mean\",\"count\"])\n",
    "print(df2)"
   ]
  },
  {
   "cell_type": "code",
   "execution_count": null,
   "metadata": {},
   "outputs": [
    {
     "data": {
      "text/plain": [
       "Traceback (most recent call last):\n",
       "  File \"c:\\Users\\sanjay k j\\.vscode\\extensions\\ms-python.python-2024.22.2-win32-x64\\python_files\\python_server.py\", line 133, in exec_user_input\n",
       "    retval = callable_(user_input, user_globals)\n",
       "             ^^^^^^^^^^^^^^^^^^^^^^^^^^^^^^^^^^^\n",
       "  File \"<string>\", line 1\n",
       "    pip install matplotlib\n",
       "        ^^^^^^^\n",
       "SyntaxError: invalid syntax\n",
       "\n"
      ]
     },
     "metadata": {},
     "output_type": "display_data"
    }
   ],
   "source": [
    "import matplotlib.pyplot as plt\n"
   ]
  },
  {
   "cell_type": "code",
   "execution_count": null,
   "metadata": {},
   "outputs": [
    {
     "data": {
      "text/plain": [
       "      Month  Product_A  Product_B  Product_C\n",
       "0   January        250        200        150\n",
       "1  February        300        250        200\n",
       "2     March        400        300        220\n",
       "3     April        350        280        210\n",
       "4       May        500        350        260\n",
       "5      June        450        400        300\n"
      ]
     },
     "metadata": {},
     "output_type": "display_data"
    }
   ],
   "source": [
    "# import pandas as pd\n",
    "\n",
    "# Sample DataFrame\n",
    "data = {\n",
    "    'Month': ['January', 'February', 'March', 'April', 'May', 'June'],\n",
    "    'Product_A': [250, 300, 400, 350, 500, 450],\n",
    "    'Product_B': [200, 250, 300, 280, 350, 400],\n",
    "    'Product_C': [150, 200, 220, 210, 260, 300]\n",
    "}\n",
    "\n",
    "df = pd.DataFrame(data)\n",
    "print(df)\n"
   ]
  },
  {
   "cell_type": "code",
   "execution_count": null,
   "metadata": {},
   "outputs": [
    {
     "data": {
      "text/plain": [
       "Traceback (most recent call last):\n",
       "  File \"c:\\Users\\sanjay k j\\.vscode\\extensions\\ms-python.python-2024.22.2-win32-x64\\python_files\\python_server.py\", line 133, in exec_user_input\n",
       "    retval = callable_(user_input, user_globals)\n",
       "             ^^^^^^^^^^^^^^^^^^^^^^^^^^^^^^^^^^^\n",
       "  File \"<string>\", line 1, in <module>\n",
       "  File \"C:\\Users\\sanjay k j\\AppData\\Roaming\\Python\\Python312\\site-packages\\pandas\\plotting\\_core.py\", line 1030, in __call__\n",
       "    return plot_backend.plot(data, kind=kind, **kwargs)\n",
       "           ^^^^^^^^^^^^^^^^^^^^^^^^^^^^^^^^^^^^^^^^^^^^\n",
       "  File \"C:\\Users\\sanjay k j\\AppData\\Roaming\\Python\\Python312\\site-packages\\pandas\\plotting\\_matplotlib\\__init__.py\", line 71, in plot\n",
       "    plot_obj.generate()\n",
       "  File \"C:\\Users\\sanjay k j\\AppData\\Roaming\\Python\\Python312\\site-packages\\pandas\\plotting\\_matplotlib\\core.py\", line 499, in generate\n",
       "    self._compute_plot_data()\n",
       "  File \"C:\\Users\\sanjay k j\\AppData\\Roaming\\Python\\Python312\\site-packages\\pandas\\plotting\\_matplotlib\\core.py\", line 698, in _compute_plot_data\n",
       "    raise TypeError(\"no numeric data to plot\")\n",
       "TypeError: no numeric data to plot\n",
       "\n"
      ]
     },
     "metadata": {},
     "output_type": "display_data"
    }
   ],
   "source": [
    "import matplotlib.pyplot as plt\n",
    "\n",
    "# Histogram for Product_A\n",
    "plt.figure(figsize=(8, 5))\n",
    "plt.hist(df['Product_A'], bins=5, color='blue', alpha=0.7, edgecolor='black')\n",
    "\n",
    "# Customize the plot\n",
    "plt.title('Distribution of Sales for Product_A', fontsize=14)\n",
    "plt.xlabel('Sales', fontsize=12)\n",
    "plt.ylabel('Frequency', fontsize=12)\n",
    "plt.grid(axis='y', linestyle='--', alpha=0.7)\n",
    "plt.show()\n"
   ]
  },
  {
   "cell_type": "code",
   "execution_count": null,
   "metadata": {},
   "outputs": [],
   "source": []
  }
 ],
 "metadata": {
  "language_info": {
   "name": "python"
  }
 },
 "nbformat": 4,
 "nbformat_minor": 2
}

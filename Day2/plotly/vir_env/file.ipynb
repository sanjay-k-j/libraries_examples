{
 "cells": [
  {
   "cell_type": "code",
   "execution_count": 1,
   "metadata": {},
   "outputs": [],
   "source": [
    "# save animated plot as video file\n",
    "\n",
    "import plotly.express as px\n",
    "import seaborn as sns\n",
    "import os\n",
    "# from moviepy.editor import ImageSequenceClip"
   ]
  },
  {
   "cell_type": "code",
   "execution_count": 2,
   "metadata": {},
   "outputs": [],
   "source": [
    "from moviepy import ImageSequenceClip"
   ]
  },
  {
   "cell_type": "code",
   "execution_count": 3,
   "metadata": {},
   "outputs": [],
   "source": [
    "from moviepy import *"
   ]
  },
  {
   "cell_type": "code",
   "execution_count": 4,
   "metadata": {},
   "outputs": [],
   "source": [
    "import pandas as pd \n",
    "import numpy as np \n",
    "import matplotlib.pyplot as plt \n",
    "import seaborn as sns\n",
    "import plotly.express as px\n",
    "import plotly.graph_objects as go "
   ]
  },
  {
   "cell_type": "code",
   "execution_count": 5,
   "metadata": {},
   "outputs": [],
   "source": [
    "import warnings\n",
    "warnings.filterwarnings('ignore')"
   ]
  },
  {
   "cell_type": "code",
   "execution_count": 6,
   "metadata": {},
   "outputs": [],
   "source": [
    "df = pd.read_csv('D:\\Machine Learning\\Day2\\Matplotlib\\diamonds.csv')\n",
    "df = df.sample(frac = 0.1, random_state=10)"
   ]
  },
  {
   "cell_type": "code",
   "execution_count": 9,
   "metadata": {},
   "outputs": [
    {
     "ename": "ValueError",
     "evalue": "\nThe kaleido executable is required by the kaleido Python library, but it was not included\nin the Python package and it could not be found on the system PATH.\n\nSearched for included kaleido executable at:\n    d:\\work\\anaconda_install\\Lib\\site-packages\\kaleido\\executable\\kaleido.cmd \n\nSearched for executable 'kaleido' on the following system PATH:\n    d:\\work\\anaconda_install\n    D:\\work\\anaconda3\n    D:\\work\\anaconda3\\Library\\mingw-w64\\bin\n    D:\\work\\anaconda3\\Library\\usr\\bin\n    D:\\work\\anaconda3\\Library\\bin\n    D:\\work\\anaconda3\\Scripts\n    D:\\work\\anaconda3\\bin\n    D:\\work\\anaconda3\\condabin\n    C:\\Program Files\\Python312\\Scripts\n    C:\\Program Files\\Python312\n    C:\\Windows\\system32\n    C:\\Windows\n    C:\\Windows\\System32\\Wbem\n    C:\\Windows\\System32\\WindowsPowerShell\\v1.0\n    C:\\Windows\\System32\\OpenSSH\n    C:\\Program Files (x86)\\NVIDIA Corporation\\PhysX\\Common\n    C:\\Program Files\\NVIDIA Corporation\\NVIDIA NvDLISR\n    C:\\WINDOWS\\system32\n    C:\\WINDOWS\n    C:\\WINDOWS\\System32\\Wbem\n    C:\\WINDOWS\\System32\\WindowsPowerShell\\v1.0\n    C:\\WINDOWS\\System32\\OpenSSH\n    C:\\Program Files\\dotnet\n    C:\\Program Files\\Java\\jdk-17\\bin\n    C:\\Program Files\\nodejs\n    C:\\Program Files\\Git\\cmd\n    C:\\Program Files\\Git\\bin\n    C:\\Program Files\\MySQL\\MySQL Server 8.0\\bin\n    C:\\Program Files\\MySQL\\MySQL Shell 8.0\\bin\n    C:\\Users\\sanjay k j\\AppData\\Local\\Microsoft\\WindowsApps\n    D:\\cool stuff\\Microsoft VS Code\\bin\n    C:\\Program Files\\Java\\jdk-17\\bin\n    C:\\Users\\sanjay k j\\AppData\\Roaming\\npm\n    C:\\Users\\sanjay k j\\anaconda3\n    .\n",
     "output_type": "error",
     "traceback": [
      "\u001b[1;31m---------------------------------------------------------------------------\u001b[0m",
      "\u001b[1;31mValueError\u001b[0m                                Traceback (most recent call last)",
      "Cell \u001b[1;32mIn[9], line 28\u001b[0m\n\u001b[0;32m     20\u001b[0m     frame_fig \u001b[38;5;241m=\u001b[39m px\u001b[38;5;241m.\u001b[39mscatter(\n\u001b[0;32m     21\u001b[0m         filtered_df, x \u001b[38;5;241m=\u001b[39m \u001b[38;5;124m'\u001b[39m\u001b[38;5;124mcarat\u001b[39m\u001b[38;5;124m'\u001b[39m, y\u001b[38;5;241m=\u001b[39m \u001b[38;5;124m'\u001b[39m\u001b[38;5;124mprice\u001b[39m\u001b[38;5;124m'\u001b[39m,\n\u001b[0;32m     22\u001b[0m         color \u001b[38;5;241m=\u001b[39m \u001b[38;5;124m'\u001b[39m\u001b[38;5;124mcolor\u001b[39m\u001b[38;5;124m'\u001b[39m,\n\u001b[1;32m   (...)\u001b[0m\n\u001b[0;32m     25\u001b[0m         hover_data\u001b[38;5;241m=\u001b[39m[\u001b[38;5;124m'\u001b[39m\u001b[38;5;124mclarity\u001b[39m\u001b[38;5;124m'\u001b[39m] \n\u001b[0;32m     26\u001b[0m     )\n\u001b[0;32m     27\u001b[0m     frame_filename \u001b[38;5;241m=\u001b[39m os\u001b[38;5;241m.\u001b[39mpath\u001b[38;5;241m.\u001b[39mjoin(frames_dir,\u001b[38;5;124mf\u001b[39m\u001b[38;5;124m\"\u001b[39m\u001b[38;5;124mframe_\u001b[39m\u001b[38;5;132;01m{\u001b[39;00mi\u001b[38;5;132;01m:\u001b[39;00m\u001b[38;5;124m03d\u001b[39m\u001b[38;5;132;01m}\u001b[39;00m\u001b[38;5;124m.png\u001b[39m\u001b[38;5;124m\"\u001b[39m)\n\u001b[1;32m---> 28\u001b[0m     frame_fig\u001b[38;5;241m.\u001b[39mwrite_image(frame_filename, engine \u001b[38;5;241m=\u001b[39m \u001b[38;5;124m'\u001b[39m\u001b[38;5;124mkaleido\u001b[39m\u001b[38;5;124m'\u001b[39m)\n\u001b[0;32m     31\u001b[0m image_files \u001b[38;5;241m=\u001b[39m [os\u001b[38;5;241m.\u001b[39mpath\u001b[38;5;241m.\u001b[39mjoin(frames_dir, f) \u001b[38;5;28;01mfor\u001b[39;00m f \u001b[38;5;129;01min\u001b[39;00m \u001b[38;5;28msorted\u001b[39m(os\u001b[38;5;241m.\u001b[39mlistdir(frames_dir)) \u001b[38;5;28;01mif\u001b[39;00m f\u001b[38;5;241m.\u001b[39mendswith(\u001b[38;5;124m'\u001b[39m\u001b[38;5;124m.png\u001b[39m\u001b[38;5;124m'\u001b[39m)]\n\u001b[0;32m     33\u001b[0m clip \u001b[38;5;241m=\u001b[39m ImageSequenceClip(image_files, fps \u001b[38;5;241m=\u001b[39m \u001b[38;5;241m2\u001b[39m)\n",
      "File \u001b[1;32m~\\AppData\\Roaming\\Python\\Python311\\site-packages\\plotly\\basedatatypes.py:3841\u001b[0m, in \u001b[0;36mBaseFigure.write_image\u001b[1;34m(self, *args, **kwargs)\u001b[0m\n\u001b[0;32m   3781\u001b[0m \u001b[38;5;250m\u001b[39m\u001b[38;5;124;03m\"\"\"\u001b[39;00m\n\u001b[0;32m   3782\u001b[0m \u001b[38;5;124;03mConvert a figure to a static image and write it to a file or writeable\u001b[39;00m\n\u001b[0;32m   3783\u001b[0m \u001b[38;5;124;03mobject\u001b[39;00m\n\u001b[1;32m   (...)\u001b[0m\n\u001b[0;32m   3837\u001b[0m \u001b[38;5;124;03mNone\u001b[39;00m\n\u001b[0;32m   3838\u001b[0m \u001b[38;5;124;03m\"\"\"\u001b[39;00m\n\u001b[0;32m   3839\u001b[0m \u001b[38;5;28;01mimport\u001b[39;00m \u001b[38;5;21;01mplotly\u001b[39;00m\u001b[38;5;21;01m.\u001b[39;00m\u001b[38;5;21;01mio\u001b[39;00m \u001b[38;5;28;01mas\u001b[39;00m \u001b[38;5;21;01mpio\u001b[39;00m\n\u001b[1;32m-> 3841\u001b[0m \u001b[38;5;28;01mreturn\u001b[39;00m pio\u001b[38;5;241m.\u001b[39mwrite_image(\u001b[38;5;28mself\u001b[39m, \u001b[38;5;241m*\u001b[39margs, \u001b[38;5;241m*\u001b[39m\u001b[38;5;241m*\u001b[39mkwargs)\n",
      "File \u001b[1;32m~\\AppData\\Roaming\\Python\\Python311\\site-packages\\plotly\\io\\_kaleido.py:266\u001b[0m, in \u001b[0;36mwrite_image\u001b[1;34m(fig, file, format, scale, width, height, validate, engine)\u001b[0m\n\u001b[0;32m    250\u001b[0m             \u001b[38;5;28;01mraise\u001b[39;00m \u001b[38;5;167;01mValueError\u001b[39;00m(\n\u001b[0;32m    251\u001b[0m \u001b[38;5;250m                \u001b[39m\u001b[38;5;124;03m\"\"\"\u001b[39;00m\n\u001b[0;32m    252\u001b[0m \u001b[38;5;124;03mCannot infer image type from output path '{file}'.\u001b[39;00m\n\u001b[1;32m   (...)\u001b[0m\n\u001b[0;32m    260\u001b[0m                 )\n\u001b[0;32m    261\u001b[0m             )\n\u001b[0;32m    263\u001b[0m     \u001b[38;5;66;03m# Request image\u001b[39;00m\n\u001b[0;32m    264\u001b[0m     \u001b[38;5;66;03m# -------------\u001b[39;00m\n\u001b[0;32m    265\u001b[0m     \u001b[38;5;66;03m# Do this first so we don't create a file if image conversion fails\u001b[39;00m\n\u001b[1;32m--> 266\u001b[0m     img_data \u001b[38;5;241m=\u001b[39m to_image(\n\u001b[0;32m    267\u001b[0m         fig,\n\u001b[0;32m    268\u001b[0m         \u001b[38;5;28mformat\u001b[39m\u001b[38;5;241m=\u001b[39m\u001b[38;5;28mformat\u001b[39m,\n\u001b[0;32m    269\u001b[0m         scale\u001b[38;5;241m=\u001b[39mscale,\n\u001b[0;32m    270\u001b[0m         width\u001b[38;5;241m=\u001b[39mwidth,\n\u001b[0;32m    271\u001b[0m         height\u001b[38;5;241m=\u001b[39mheight,\n\u001b[0;32m    272\u001b[0m         validate\u001b[38;5;241m=\u001b[39mvalidate,\n\u001b[0;32m    273\u001b[0m         engine\u001b[38;5;241m=\u001b[39mengine,\n\u001b[0;32m    274\u001b[0m     )\n\u001b[0;32m    276\u001b[0m     \u001b[38;5;66;03m# Open file\u001b[39;00m\n\u001b[0;32m    277\u001b[0m     \u001b[38;5;66;03m# ---------\u001b[39;00m\n\u001b[0;32m    278\u001b[0m     \u001b[38;5;28;01mif\u001b[39;00m path \u001b[38;5;129;01mis\u001b[39;00m \u001b[38;5;28;01mNone\u001b[39;00m:\n\u001b[0;32m    279\u001b[0m         \u001b[38;5;66;03m# We previously failed to make sense of `file` as a pathlib object.\u001b[39;00m\n\u001b[0;32m    280\u001b[0m         \u001b[38;5;66;03m# Attempt to write to `file` as an open file descriptor.\u001b[39;00m\n",
      "File \u001b[1;32m~\\AppData\\Roaming\\Python\\Python311\\site-packages\\plotly\\io\\_kaleido.py:143\u001b[0m, in \u001b[0;36mto_image\u001b[1;34m(fig, format, width, height, scale, validate, engine)\u001b[0m\n\u001b[0;32m    140\u001b[0m \u001b[38;5;66;03m# Validate figure\u001b[39;00m\n\u001b[0;32m    141\u001b[0m \u001b[38;5;66;03m# ---------------\u001b[39;00m\n\u001b[0;32m    142\u001b[0m fig_dict \u001b[38;5;241m=\u001b[39m validate_coerce_fig_to_dict(fig, validate)\n\u001b[1;32m--> 143\u001b[0m img_bytes \u001b[38;5;241m=\u001b[39m scope\u001b[38;5;241m.\u001b[39mtransform(\n\u001b[0;32m    144\u001b[0m     fig_dict, \u001b[38;5;28mformat\u001b[39m\u001b[38;5;241m=\u001b[39m\u001b[38;5;28mformat\u001b[39m, width\u001b[38;5;241m=\u001b[39mwidth, height\u001b[38;5;241m=\u001b[39mheight, scale\u001b[38;5;241m=\u001b[39mscale\n\u001b[0;32m    145\u001b[0m )\n\u001b[0;32m    147\u001b[0m \u001b[38;5;28;01mreturn\u001b[39;00m img_bytes\n",
      "File \u001b[1;32md:\\work\\anaconda_install\\Lib\\site-packages\\kaleido\\scopes\\plotly.py:153\u001b[0m, in \u001b[0;36mPlotlyScope.transform\u001b[1;34m(self, figure, format, width, height, scale)\u001b[0m\n\u001b[0;32m    142\u001b[0m     \u001b[38;5;28;01mraise\u001b[39;00m \u001b[38;5;167;01mValueError\u001b[39;00m(\n\u001b[0;32m    143\u001b[0m         \u001b[38;5;124m\"\u001b[39m\u001b[38;5;124mInvalid format \u001b[39m\u001b[38;5;124m'\u001b[39m\u001b[38;5;132;01m{original_format}\u001b[39;00m\u001b[38;5;124m'\u001b[39m\u001b[38;5;124m.\u001b[39m\u001b[38;5;130;01m\\n\u001b[39;00m\u001b[38;5;124m\"\u001b[39m\n\u001b[0;32m    144\u001b[0m         \u001b[38;5;124m\"\u001b[39m\u001b[38;5;124m    Supported formats: \u001b[39m\u001b[38;5;132;01m{supported_formats_str}\u001b[39;00m\u001b[38;5;124m\"\u001b[39m\n\u001b[1;32m   (...)\u001b[0m\n\u001b[0;32m    148\u001b[0m         )\n\u001b[0;32m    149\u001b[0m     )\n\u001b[0;32m    151\u001b[0m \u001b[38;5;66;03m# Transform in using _perform_transform rather than superclass so we can access the full\u001b[39;00m\n\u001b[0;32m    152\u001b[0m \u001b[38;5;66;03m# response dict, including error codes.\u001b[39;00m\n\u001b[1;32m--> 153\u001b[0m response \u001b[38;5;241m=\u001b[39m \u001b[38;5;28mself\u001b[39m\u001b[38;5;241m.\u001b[39m_perform_transform(\n\u001b[0;32m    154\u001b[0m     figure, \u001b[38;5;28mformat\u001b[39m\u001b[38;5;241m=\u001b[39m\u001b[38;5;28mformat\u001b[39m, width\u001b[38;5;241m=\u001b[39mwidth, height\u001b[38;5;241m=\u001b[39mheight, scale\u001b[38;5;241m=\u001b[39mscale\n\u001b[0;32m    155\u001b[0m )\n\u001b[0;32m    157\u001b[0m \u001b[38;5;66;03m# Check for export error, later can customize error messages for plotly Python users\u001b[39;00m\n\u001b[0;32m    158\u001b[0m code \u001b[38;5;241m=\u001b[39m response\u001b[38;5;241m.\u001b[39mget(\u001b[38;5;124m\"\u001b[39m\u001b[38;5;124mcode\u001b[39m\u001b[38;5;124m\"\u001b[39m, \u001b[38;5;241m0\u001b[39m)\n",
      "File \u001b[1;32md:\\work\\anaconda_install\\Lib\\site-packages\\kaleido\\scopes\\base.py:293\u001b[0m, in \u001b[0;36mBaseScope._perform_transform\u001b[1;34m(self, data, **kwargs)\u001b[0m\n\u001b[0;32m    284\u001b[0m \u001b[38;5;250m\u001b[39m\u001b[38;5;124;03m\"\"\"\u001b[39;00m\n\u001b[0;32m    285\u001b[0m \u001b[38;5;124;03mTransform input data using the current scope, returning dict response with error code\u001b[39;00m\n\u001b[0;32m    286\u001b[0m \u001b[38;5;124;03mwhether successful or not.\u001b[39;00m\n\u001b[1;32m   (...)\u001b[0m\n\u001b[0;32m    290\u001b[0m \u001b[38;5;124;03m:return: Dict of response from Kaleido executable, whether successful or not\u001b[39;00m\n\u001b[0;32m    291\u001b[0m \u001b[38;5;124;03m\"\"\"\u001b[39;00m\n\u001b[0;32m    292\u001b[0m \u001b[38;5;66;03m# Ensure that kaleido subprocess is running\u001b[39;00m\n\u001b[1;32m--> 293\u001b[0m \u001b[38;5;28mself\u001b[39m\u001b[38;5;241m.\u001b[39m_ensure_kaleido()\n\u001b[0;32m    295\u001b[0m \u001b[38;5;66;03m# Perform export\u001b[39;00m\n\u001b[0;32m    296\u001b[0m export_spec \u001b[38;5;241m=\u001b[39m \u001b[38;5;28mself\u001b[39m\u001b[38;5;241m.\u001b[39m_json_dumps(\u001b[38;5;28mdict\u001b[39m(kwargs, data\u001b[38;5;241m=\u001b[39mdata))\u001b[38;5;241m.\u001b[39mencode(\u001b[38;5;124m'\u001b[39m\u001b[38;5;124mutf-8\u001b[39m\u001b[38;5;124m'\u001b[39m)\n",
      "File \u001b[1;32md:\\work\\anaconda_install\\Lib\\site-packages\\kaleido\\scopes\\base.py:176\u001b[0m, in \u001b[0;36mBaseScope._ensure_kaleido\u001b[1;34m(self)\u001b[0m\n\u001b[0;32m    170\u001b[0m \u001b[38;5;28mself\u001b[39m\u001b[38;5;241m.\u001b[39m_std_error \u001b[38;5;241m=\u001b[39m io\u001b[38;5;241m.\u001b[39mBytesIO()\n\u001b[0;32m    172\u001b[0m \u001b[38;5;66;03m# Launch kaleido subprocess\u001b[39;00m\n\u001b[0;32m    173\u001b[0m \u001b[38;5;66;03m# Note: shell=True seems to be needed on Windows to handle executable path with\u001b[39;00m\n\u001b[0;32m    174\u001b[0m \u001b[38;5;66;03m# spaces.  The subprocess.Popen docs makes it sound like this shouldn't be\u001b[39;00m\n\u001b[0;32m    175\u001b[0m \u001b[38;5;66;03m# necessary.\u001b[39;00m\n\u001b[1;32m--> 176\u001b[0m proc_args \u001b[38;5;241m=\u001b[39m \u001b[38;5;28mself\u001b[39m\u001b[38;5;241m.\u001b[39m_build_proc_args()\n\u001b[0;32m    177\u001b[0m \u001b[38;5;28mself\u001b[39m\u001b[38;5;241m.\u001b[39m_proc \u001b[38;5;241m=\u001b[39m subprocess\u001b[38;5;241m.\u001b[39mPopen(\n\u001b[0;32m    178\u001b[0m     proc_args,\n\u001b[0;32m    179\u001b[0m     stdin\u001b[38;5;241m=\u001b[39msubprocess\u001b[38;5;241m.\u001b[39mPIPE,\n\u001b[1;32m   (...)\u001b[0m\n\u001b[0;32m    182\u001b[0m     shell\u001b[38;5;241m=\u001b[39msys\u001b[38;5;241m.\u001b[39mplatform \u001b[38;5;241m==\u001b[39m \u001b[38;5;124m\"\u001b[39m\u001b[38;5;124mwin32\u001b[39m\u001b[38;5;124m\"\u001b[39m\n\u001b[0;32m    183\u001b[0m )\n\u001b[0;32m    185\u001b[0m \u001b[38;5;66;03m# Set up thread to asynchronously collect standard error stream\u001b[39;00m\n",
      "File \u001b[1;32md:\\work\\anaconda_install\\Lib\\site-packages\\kaleido\\scopes\\base.py:123\u001b[0m, in \u001b[0;36mBaseScope._build_proc_args\u001b[1;34m(self)\u001b[0m\n\u001b[0;32m    116\u001b[0m \u001b[38;5;28;01mdef\u001b[39;00m \u001b[38;5;21m_build_proc_args\u001b[39m(\u001b[38;5;28mself\u001b[39m):\n\u001b[0;32m    117\u001b[0m \u001b[38;5;250m    \u001b[39m\u001b[38;5;124;03m\"\"\"\u001b[39;00m\n\u001b[0;32m    118\u001b[0m \u001b[38;5;124;03m    Build list of kaleido command-line arguments based on current values of\u001b[39;00m\n\u001b[0;32m    119\u001b[0m \u001b[38;5;124;03m    the properties specified by self._scope_flags and self.chromium_args\u001b[39;00m\n\u001b[0;32m    120\u001b[0m \n\u001b[0;32m    121\u001b[0m \u001b[38;5;124;03m    :return: list of flags\u001b[39;00m\n\u001b[0;32m    122\u001b[0m \u001b[38;5;124;03m    \"\"\"\u001b[39;00m\n\u001b[1;32m--> 123\u001b[0m     proc_args \u001b[38;5;241m=\u001b[39m [\u001b[38;5;28mself\u001b[39m\u001b[38;5;241m.\u001b[39mexecutable_path(), \u001b[38;5;28mself\u001b[39m\u001b[38;5;241m.\u001b[39mscope_name]\n\u001b[0;32m    124\u001b[0m     \u001b[38;5;28;01mfor\u001b[39;00m k \u001b[38;5;129;01min\u001b[39;00m \u001b[38;5;28mself\u001b[39m\u001b[38;5;241m.\u001b[39m_scope_flags:\n\u001b[0;32m    125\u001b[0m         v \u001b[38;5;241m=\u001b[39m \u001b[38;5;28mgetattr\u001b[39m(\u001b[38;5;28mself\u001b[39m, k)\n",
      "File \u001b[1;32md:\\work\\anaconda_install\\Lib\\site-packages\\kaleido\\scopes\\base.py:99\u001b[0m, in \u001b[0;36mBaseScope.executable_path\u001b[1;34m(cls)\u001b[0m\n\u001b[0;32m     97\u001b[0m                 path \u001b[38;5;241m=\u001b[39m os\u001b[38;5;241m.\u001b[39menviron\u001b[38;5;241m.\u001b[39mget(\u001b[38;5;124m\"\u001b[39m\u001b[38;5;124mPATH\u001b[39m\u001b[38;5;124m\"\u001b[39m, os\u001b[38;5;241m.\u001b[39mdefpath)\n\u001b[0;32m     98\u001b[0m                 formatted_path \u001b[38;5;241m=\u001b[39m path\u001b[38;5;241m.\u001b[39mreplace(os\u001b[38;5;241m.\u001b[39mpathsep, \u001b[38;5;124m\"\u001b[39m\u001b[38;5;130;01m\\n\u001b[39;00m\u001b[38;5;124m    \u001b[39m\u001b[38;5;124m\"\u001b[39m)\n\u001b[1;32m---> 99\u001b[0m                 \u001b[38;5;28;01mraise\u001b[39;00m \u001b[38;5;167;01mValueError\u001b[39;00m(\n\u001b[0;32m    100\u001b[0m \u001b[38;5;250m                    \u001b[39m\u001b[38;5;124;03m\"\"\"\u001b[39;00m\n\u001b[0;32m    101\u001b[0m \u001b[38;5;124;03mThe kaleido executable is required by the kaleido Python library, but it was not included\u001b[39;00m\n\u001b[0;32m    102\u001b[0m \u001b[38;5;124;03min the Python package and it could not be found on the system PATH.\u001b[39;00m\n\u001b[0;32m    103\u001b[0m \n\u001b[0;32m    104\u001b[0m \u001b[38;5;124;03mSearched for included kaleido executable at:\u001b[39;00m\n\u001b[0;32m    105\u001b[0m \u001b[38;5;124;03m    {vendored_executable_path} \u001b[39;00m\n\u001b[0;32m    106\u001b[0m \n\u001b[0;32m    107\u001b[0m \u001b[38;5;124;03mSearched for executable 'kaleido' on the following system PATH:\u001b[39;00m\n\u001b[0;32m    108\u001b[0m \u001b[38;5;124;03m    {formatted_path}\\n\"\"\"\u001b[39;00m\u001b[38;5;241m.\u001b[39mformat(\n\u001b[0;32m    109\u001b[0m                         vendored_executable_path\u001b[38;5;241m=\u001b[39mvendored_executable_path,\n\u001b[0;32m    110\u001b[0m                         formatted_path\u001b[38;5;241m=\u001b[39mformatted_path,\n\u001b[0;32m    111\u001b[0m                     )\n\u001b[0;32m    112\u001b[0m                 )\n\u001b[0;32m    114\u001b[0m         \u001b[38;5;28;01mreturn\u001b[39;00m executable_path\n",
      "\u001b[1;31mValueError\u001b[0m: \nThe kaleido executable is required by the kaleido Python library, but it was not included\nin the Python package and it could not be found on the system PATH.\n\nSearched for included kaleido executable at:\n    d:\\work\\anaconda_install\\Lib\\site-packages\\kaleido\\executable\\kaleido.cmd \n\nSearched for executable 'kaleido' on the following system PATH:\n    d:\\work\\anaconda_install\n    D:\\work\\anaconda3\n    D:\\work\\anaconda3\\Library\\mingw-w64\\bin\n    D:\\work\\anaconda3\\Library\\usr\\bin\n    D:\\work\\anaconda3\\Library\\bin\n    D:\\work\\anaconda3\\Scripts\n    D:\\work\\anaconda3\\bin\n    D:\\work\\anaconda3\\condabin\n    C:\\Program Files\\Python312\\Scripts\n    C:\\Program Files\\Python312\n    C:\\Windows\\system32\n    C:\\Windows\n    C:\\Windows\\System32\\Wbem\n    C:\\Windows\\System32\\WindowsPowerShell\\v1.0\n    C:\\Windows\\System32\\OpenSSH\n    C:\\Program Files (x86)\\NVIDIA Corporation\\PhysX\\Common\n    C:\\Program Files\\NVIDIA Corporation\\NVIDIA NvDLISR\n    C:\\WINDOWS\\system32\n    C:\\WINDOWS\n    C:\\WINDOWS\\System32\\Wbem\n    C:\\WINDOWS\\System32\\WindowsPowerShell\\v1.0\n    C:\\WINDOWS\\System32\\OpenSSH\n    C:\\Program Files\\dotnet\n    C:\\Program Files\\Java\\jdk-17\\bin\n    C:\\Program Files\\nodejs\n    C:\\Program Files\\Git\\cmd\n    C:\\Program Files\\Git\\bin\n    C:\\Program Files\\MySQL\\MySQL Server 8.0\\bin\n    C:\\Program Files\\MySQL\\MySQL Shell 8.0\\bin\n    C:\\Users\\sanjay k j\\AppData\\Local\\Microsoft\\WindowsApps\n    D:\\cool stuff\\Microsoft VS Code\\bin\n    C:\\Program Files\\Java\\jdk-17\\bin\n    C:\\Users\\sanjay k j\\AppData\\Roaming\\npm\n    C:\\Users\\sanjay k j\\anaconda3\n    .\n"
     ]
    }
   ],
   "source": [
    "df = sns.load_dataset('diamonds')\n",
    "\n",
    "if df.isnull().any().any():\n",
    "    raise ValueError(\"The dataset contains missing values : Do handle them before plotting\")\n",
    "\n",
    "frames_dir = \"frames\"\n",
    "os.makedirs(frames_dir, exist_ok=True)\n",
    "import os\n",
    "os.environ[\"KALEIDO_PATH\"] = r\"D:\\Machine Learning\\Day2\\.venv\\Lib\\site-packages\\kaleido\\executable\\kaleido.cmd\"\n",
    "\n",
    "\n",
    "unique_cuts = df['cut'].unique()\n",
    "\n",
    "for i, cut in enumerate(unique_cuts):\n",
    "    filtered_df = df[df['cut'] == cut]\n",
    "\n",
    "    if filtered_df.empty:\n",
    "        continue\n",
    "\n",
    "    frame_fig = px.scatter(\n",
    "        filtered_df, x = 'carat', y= 'price',\n",
    "        color = 'color',\n",
    "        title = f'Carat VS Price for {cut} Cut',\n",
    "        size = 'depth',\n",
    "        hover_data=['clarity'] \n",
    "    )\n",
    "    frame_filename = os.path.join(frames_dir,f\"frame_{i:03d}.png\")\n",
    "    frame_fig.write_image(frame_filename, engine = 'kaleido')\n",
    "\n",
    "\n",
    "image_files = [os.path.join(frames_dir, f) for f in sorted(os.listdir(frames_dir)) if f.endswith('.png')]\n",
    "\n",
    "clip = ImageSequenceClip(image_files, fps = 2)\n",
    "clip.write_gif(\"animated_plot.gif\", fps = 2)\n",
    "clip.write_videofile(\"animated_plot.mp4\", fps = 2)\n",
    "clip.write_videofile(\"./03_plotly/animated_plot_HD.mp4\", fps=1, codec=\"libx264\", preset=\"ultrafast\", bitrate=\"3000k\")\n",
    "\n",
    "# from IPython.display import Image\n",
    "# Image(\"./03_plotly/animated_plot.gif\")\n"
   ]
  },
  {
   "cell_type": "code",
   "execution_count": 8,
   "metadata": {},
   "outputs": [
    {
     "name": "stdout",
     "output_type": "stream",
     "text": [
      "Collecting package metadata (current_repodata.json): ...working... done\n",
      "Solving environment: ...working... failed with initial frozen solve. Retrying with flexible solve.\n",
      "Collecting package metadata (repodata.json): ...working... done\n",
      "Solving environment: ...working... failed with initial frozen solve. Retrying with flexible solve.\n",
      "\n",
      "Note: you may need to restart the kernel to use updated packages.\n"
     ]
    },
    {
     "name": "stderr",
     "output_type": "stream",
     "text": [
      "\n",
      "PackagesNotFoundError: The following packages are not available from current channels:\n",
      "\n",
      "  - kaleido\n",
      "\n",
      "Current channels:\n",
      "\n",
      "  - https://repo.anaconda.com/pkgs/main/win-64\n",
      "  - https://repo.anaconda.com/pkgs/main/noarch\n",
      "  - https://repo.anaconda.com/pkgs/r/win-64\n",
      "  - https://repo.anaconda.com/pkgs/r/noarch\n",
      "  - https://repo.anaconda.com/pkgs/msys2/win-64\n",
      "  - https://repo.anaconda.com/pkgs/msys2/noarch\n",
      "\n",
      "To search for alternate channels that may provide the conda package you're\n",
      "looking for, navigate to\n",
      "\n",
      "    https://anaconda.org\n",
      "\n",
      "and use the search bar at the top of the page.\n",
      "\n",
      "\n"
     ]
    }
   ],
   "source": [
    "conda install kaleido"
   ]
  }
 ],
 "metadata": {
  "kernelspec": {
   "display_name": "base",
   "language": "python",
   "name": "python3"
  },
  "language_info": {
   "codemirror_mode": {
    "name": "ipython",
    "version": 3
   },
   "file_extension": ".py",
   "mimetype": "text/x-python",
   "name": "python",
   "nbconvert_exporter": "python",
   "pygments_lexer": "ipython3",
   "version": "3.11.5"
  }
 },
 "nbformat": 4,
 "nbformat_minor": 2
}
